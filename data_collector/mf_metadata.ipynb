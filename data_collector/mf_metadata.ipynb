{
 "cells": [
  {
   "cell_type": "code",
   "execution_count": 1,
   "metadata": {},
   "outputs": [],
   "source": [
    "import pandas as pd\n"
   ]
  },
  {
   "cell_type": "code",
   "execution_count": 3,
   "metadata": {},
   "outputs": [
    {
     "data": {
      "text/plain": [
       "['Scheme Code',\n",
       " 'ISIN Div Payout/ ISIN Growth',\n",
       " 'ISIN Div Reinvestment',\n",
       " 'Scheme Name',\n",
       " 'Net Asset Value',\n",
       " 'Date']"
      ]
     },
     "execution_count": 3,
     "metadata": {},
     "output_type": "execute_result"
    }
   ],
   "source": [
    "raw_df = pd.read_excel(r\"../data/mf_metadata.xlsx\")\n",
    "\n",
    "cols = raw_df.columns[0].split(\";\")\n",
    "cols\n"
   ]
  },
  {
   "cell_type": "code",
   "execution_count": 4,
   "metadata": {},
   "outputs": [],
   "source": [
    "mf_metadata = []\n",
    "for i in range(len(raw_df)):\n",
    "    try:\n",
    "        row = raw_df.iloc[i][0].split(\";\")\n",
    "    except:\n",
    "        continue\n",
    "    if len(row) == len(cols):\n",
    "        item = {}\n",
    "        for idx, col in enumerate(cols):\n",
    "            item[col] = row[idx]\n",
    "        mf_metadata.append(item)\n"
   ]
  },
  {
   "cell_type": "code",
   "execution_count": 5,
   "metadata": {},
   "outputs": [],
   "source": [
    "pd.DataFrame(mf_metadata).to_pickle(r\"../data/mf_metadata.pkl\")\n"
   ]
  },
  {
   "cell_type": "code",
   "execution_count": 6,
   "metadata": {},
   "outputs": [],
   "source": [
    "meta = pd.read_pickle(r\"../data/mf_metadata.pkl\")\n",
    "meta[[\"ISIN Div Payout/ ISIN Growth\", \"Scheme Code\"]].set_index(\n",
    "    \"ISIN Div Payout/ ISIN Growth\"\n",
    ").squeeze().rename_axis(\"ISIN\").to_pickle(\"../data/isin_scid_map.pkl\")\n"
   ]
  }
 ],
 "metadata": {
  "kernelspec": {
   "display_name": "quant",
   "language": "python",
   "name": "python3"
  },
  "language_info": {
   "codemirror_mode": {
    "name": "ipython",
    "version": 3
   },
   "file_extension": ".py",
   "mimetype": "text/x-python",
   "name": "python",
   "nbconvert_exporter": "python",
   "pygments_lexer": "ipython3",
   "version": "3.9.5"
  },
  "orig_nbformat": 4
 },
 "nbformat": 4,
 "nbformat_minor": 2
}
